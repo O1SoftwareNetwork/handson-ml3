{
 "cells": [
  {
   "cell_type": "code",
   "execution_count": null,
   "id": "410e115f-f318-4f62-8ca4-60859561ff36",
   "metadata": {},
   "outputs": [],
   "source": [
    "h = \"hello\""
   ]
  },
  {
   "cell_type": "code",
   "execution_count": null,
   "id": "71756b34-fd47-4737-a951-107cc4f850c7",
   "metadata": {},
   "outputs": [],
   "source": [
    "f\"{h} world\""
   ]
  },
  {
   "cell_type": "code",
   "execution_count": null,
   "id": "e2451c01-3a2a-49ef-83ce-4460b4cc0989",
   "metadata": {},
   "outputs": [],
   "source": []
  }
 ],
 "metadata": {
  "kernelspec": {
   "display_name": "Python 3 (ipykernel)",
   "language": "python",
   "name": "python3"
  },
  "language_info": {
   "codemirror_mode": {
    "name": "ipython",
    "version": 3
   },
   "file_extension": ".py",
   "mimetype": "text/x-python",
   "name": "python",
   "nbconvert_exporter": "python",
   "pygments_lexer": "ipython3",
   "version": "3.10.13"
  }
 },
 "nbformat": 4,
 "nbformat_minor": 5
}
